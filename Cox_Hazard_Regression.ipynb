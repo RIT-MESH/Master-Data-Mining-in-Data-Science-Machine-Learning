{
 "cells": [
  {
   "cell_type": "code",
   "execution_count": null,
   "metadata": {
    "colab": {
     "base_uri": "https://localhost:8080/"
    },
    "id": "qzrBQpODSu0c",
    "outputId": "70f7ac7a-68db-4809-9983-ff2644016624"
   },
   "outputs": [
    {
     "name": "stdout",
     "output_type": "stream",
     "text": [
      "Collecting lifelines\n",
      "  Downloading lifelines-0.26.0-py3-none-any.whl (348 kB)\n",
      "\u001b[?25l\r",
      "\u001b[K     |█                               | 10 kB 26.2 MB/s eta 0:00:01\r",
      "\u001b[K     |█▉                              | 20 kB 33.0 MB/s eta 0:00:01\r",
      "\u001b[K     |██▉                             | 30 kB 39.8 MB/s eta 0:00:01\r",
      "\u001b[K     |███▊                            | 40 kB 41.1 MB/s eta 0:00:01\r",
      "\u001b[K     |████▊                           | 51 kB 40.3 MB/s eta 0:00:01\r",
      "\u001b[K     |█████▋                          | 61 kB 37.6 MB/s eta 0:00:01\r",
      "\u001b[K     |██████▋                         | 71 kB 29.6 MB/s eta 0:00:01\r",
      "\u001b[K     |███████▌                        | 81 kB 31.5 MB/s eta 0:00:01\r",
      "\u001b[K     |████████▌                       | 92 kB 31.0 MB/s eta 0:00:01\r",
      "\u001b[K     |█████████▍                      | 102 kB 31.8 MB/s eta 0:00:01\r",
      "\u001b[K     |██████████▍                     | 112 kB 31.8 MB/s eta 0:00:01\r",
      "\u001b[K     |███████████▎                    | 122 kB 31.8 MB/s eta 0:00:01\r",
      "\u001b[K     |████████████▎                   | 133 kB 31.8 MB/s eta 0:00:01\r",
      "\u001b[K     |█████████████▏                  | 143 kB 31.8 MB/s eta 0:00:01\r",
      "\u001b[K     |██████████████▏                 | 153 kB 31.8 MB/s eta 0:00:01\r",
      "\u001b[K     |███████████████                 | 163 kB 31.8 MB/s eta 0:00:01\r",
      "\u001b[K     |████████████████                | 174 kB 31.8 MB/s eta 0:00:01\r",
      "\u001b[K     |█████████████████               | 184 kB 31.8 MB/s eta 0:00:01\r",
      "\u001b[K     |█████████████████▉              | 194 kB 31.8 MB/s eta 0:00:01\r",
      "\u001b[K     |██████████████████▉             | 204 kB 31.8 MB/s eta 0:00:01\r",
      "\u001b[K     |███████████████████▊            | 215 kB 31.8 MB/s eta 0:00:01\r",
      "\u001b[K     |████████████████████▊           | 225 kB 31.8 MB/s eta 0:00:01\r",
      "\u001b[K     |█████████████████████▋          | 235 kB 31.8 MB/s eta 0:00:01\r",
      "\u001b[K     |██████████████████████▋         | 245 kB 31.8 MB/s eta 0:00:01\r",
      "\u001b[K     |███████████████████████▌        | 256 kB 31.8 MB/s eta 0:00:01\r",
      "\u001b[K     |████████████████████████▌       | 266 kB 31.8 MB/s eta 0:00:01\r",
      "\u001b[K     |█████████████████████████▍      | 276 kB 31.8 MB/s eta 0:00:01\r",
      "\u001b[K     |██████████████████████████▍     | 286 kB 31.8 MB/s eta 0:00:01\r",
      "\u001b[K     |███████████████████████████▎    | 296 kB 31.8 MB/s eta 0:00:01\r",
      "\u001b[K     |████████████████████████████▎   | 307 kB 31.8 MB/s eta 0:00:01\r",
      "\u001b[K     |█████████████████████████████▏  | 317 kB 31.8 MB/s eta 0:00:01\r",
      "\u001b[K     |██████████████████████████████▏ | 327 kB 31.8 MB/s eta 0:00:01\r",
      "\u001b[K     |███████████████████████████████ | 337 kB 31.8 MB/s eta 0:00:01\r",
      "\u001b[K     |████████████████████████████████| 348 kB 31.8 MB/s eta 0:00:01\r",
      "\u001b[K     |████████████████████████████████| 348 kB 31.8 MB/s \n",
      "\u001b[?25hRequirement already satisfied: autograd>=1.3 in /usr/local/lib/python3.7/dist-packages (from lifelines) (1.3)\n",
      "Requirement already satisfied: scipy>=1.2.0 in /usr/local/lib/python3.7/dist-packages (from lifelines) (1.4.1)\n",
      "Collecting formulaic<0.3,>=0.2.2\n",
      "  Downloading formulaic-0.2.4-py3-none-any.whl (55 kB)\n",
      "\u001b[?25l\r",
      "\u001b[K     |█████▉                          | 10 kB 39.9 MB/s eta 0:00:01\r",
      "\u001b[K     |███████████▊                    | 20 kB 47.0 MB/s eta 0:00:01\r",
      "\u001b[K     |█████████████████▋              | 30 kB 57.3 MB/s eta 0:00:01\r",
      "\u001b[K     |███████████████████████▍        | 40 kB 61.9 MB/s eta 0:00:01\r",
      "\u001b[K     |█████████████████████████████▎  | 51 kB 64.7 MB/s eta 0:00:01\r",
      "\u001b[K     |████████████████████████████████| 55 kB 4.6 MB/s \n",
      "\u001b[?25hRequirement already satisfied: pandas>=0.23.0 in /usr/local/lib/python3.7/dist-packages (from lifelines) (1.1.5)\n",
      "Requirement already satisfied: numpy>=1.14.0 in /usr/local/lib/python3.7/dist-packages (from lifelines) (1.19.5)\n",
      "Requirement already satisfied: matplotlib>=3.0 in /usr/local/lib/python3.7/dist-packages (from lifelines) (3.2.2)\n",
      "Collecting autograd-gamma>=0.3\n",
      "  Downloading autograd-gamma-0.5.0.tar.gz (4.0 kB)\n",
      "Requirement already satisfied: future>=0.15.2 in /usr/local/lib/python3.7/dist-packages (from autograd>=1.3->lifelines) (0.16.0)\n",
      "Requirement already satisfied: astor in /usr/local/lib/python3.7/dist-packages (from formulaic<0.3,>=0.2.2->lifelines) (0.8.1)\n",
      "Collecting interface-meta>=1.2\n",
      "  Downloading interface_meta-1.2.3-py2.py3-none-any.whl (14 kB)\n",
      "Requirement already satisfied: wrapt in /usr/local/lib/python3.7/dist-packages (from formulaic<0.3,>=0.2.2->lifelines) (1.12.1)\n",
      "Requirement already satisfied: python-dateutil>=2.1 in /usr/local/lib/python3.7/dist-packages (from matplotlib>=3.0->lifelines) (2.8.1)\n",
      "Requirement already satisfied: cycler>=0.10 in /usr/local/lib/python3.7/dist-packages (from matplotlib>=3.0->lifelines) (0.10.0)\n",
      "Requirement already satisfied: kiwisolver>=1.0.1 in /usr/local/lib/python3.7/dist-packages (from matplotlib>=3.0->lifelines) (1.3.1)\n",
      "Requirement already satisfied: pyparsing!=2.0.4,!=2.1.2,!=2.1.6,>=2.0.1 in /usr/local/lib/python3.7/dist-packages (from matplotlib>=3.0->lifelines) (2.4.7)\n",
      "Requirement already satisfied: six in /usr/local/lib/python3.7/dist-packages (from cycler>=0.10->matplotlib>=3.0->lifelines) (1.15.0)\n",
      "Requirement already satisfied: pytz>=2017.2 in /usr/local/lib/python3.7/dist-packages (from pandas>=0.23.0->lifelines) (2018.9)\n",
      "Building wheels for collected packages: autograd-gamma\n",
      "  Building wheel for autograd-gamma (setup.py) ... \u001b[?25l\u001b[?25hdone\n",
      "  Created wheel for autograd-gamma: filename=autograd_gamma-0.5.0-py3-none-any.whl size=4048 sha256=abcaed1f52af5ee9826c58eaadb4152c50e6c8e7409a78088608fb037e206fc0\n",
      "  Stored in directory: /root/.cache/pip/wheels/9f/01/ee/1331593abb5725ff7d8c1333aee93a50a1c29d6ddda9665c9f\n",
      "Successfully built autograd-gamma\n",
      "Installing collected packages: interface-meta, formulaic, autograd-gamma, lifelines\n",
      "Successfully installed autograd-gamma-0.5.0 formulaic-0.2.4 interface-meta-1.2.3 lifelines-0.26.0\n"
     ]
    }
   ],
   "source": [
    "pip install lifelines"
   ]
  },
  {
   "cell_type": "code",
   "execution_count": null,
   "metadata": {
    "id": "LXujyOj5SXZZ"
   },
   "outputs": [],
   "source": [
    "# importing libraries\n",
    "import pandas as pd\n",
    "import lifelines"
   ]
  },
  {
   "cell_type": "code",
   "execution_count": null,
   "metadata": {
    "id": "YOHMntKQSndS"
   },
   "outputs": [],
   "source": [
    "# reading dataset\n",
    "data = pd.read_csv('/content/drive/MyDrive/Data Mining for Business in Python-20210706T154929Z-001/Data Mining for Business in Python/1. Survival Analysis/lung.csv')"
   ]
  },
  {
   "cell_type": "code",
   "execution_count": null,
   "metadata": {
    "colab": {
     "base_uri": "https://localhost:8080/",
     "height": 204
    },
    "id": "YZShc3IDSxLn",
    "outputId": "b5cb3d58-e622-4dd7-c8e1-e548cb6c5d67"
   },
   "outputs": [
    {
     "data": {
      "text/html": [
       "<div>\n",
       "<style scoped>\n",
       "    .dataframe tbody tr th:only-of-type {\n",
       "        vertical-align: middle;\n",
       "    }\n",
       "\n",
       "    .dataframe tbody tr th {\n",
       "        vertical-align: top;\n",
       "    }\n",
       "\n",
       "    .dataframe thead th {\n",
       "        text-align: right;\n",
       "    }\n",
       "</style>\n",
       "<table border=\"1\" class=\"dataframe\">\n",
       "  <thead>\n",
       "    <tr style=\"text-align: right;\">\n",
       "      <th></th>\n",
       "      <th>inst</th>\n",
       "      <th>time</th>\n",
       "      <th>status</th>\n",
       "      <th>age</th>\n",
       "      <th>sex</th>\n",
       "      <th>ph.ecog</th>\n",
       "      <th>ph.karno</th>\n",
       "      <th>pat.karno</th>\n",
       "      <th>meal.cal</th>\n",
       "      <th>wt.loss</th>\n",
       "    </tr>\n",
       "  </thead>\n",
       "  <tbody>\n",
       "    <tr>\n",
       "      <th>0</th>\n",
       "      <td>3.0</td>\n",
       "      <td>306</td>\n",
       "      <td>2</td>\n",
       "      <td>74</td>\n",
       "      <td>1</td>\n",
       "      <td>1.0</td>\n",
       "      <td>90.0</td>\n",
       "      <td>100.0</td>\n",
       "      <td>1175.0</td>\n",
       "      <td>NaN</td>\n",
       "    </tr>\n",
       "    <tr>\n",
       "      <th>1</th>\n",
       "      <td>3.0</td>\n",
       "      <td>455</td>\n",
       "      <td>2</td>\n",
       "      <td>68</td>\n",
       "      <td>1</td>\n",
       "      <td>0.0</td>\n",
       "      <td>90.0</td>\n",
       "      <td>90.0</td>\n",
       "      <td>1225.0</td>\n",
       "      <td>15.0</td>\n",
       "    </tr>\n",
       "    <tr>\n",
       "      <th>2</th>\n",
       "      <td>3.0</td>\n",
       "      <td>1010</td>\n",
       "      <td>1</td>\n",
       "      <td>56</td>\n",
       "      <td>1</td>\n",
       "      <td>0.0</td>\n",
       "      <td>90.0</td>\n",
       "      <td>90.0</td>\n",
       "      <td>NaN</td>\n",
       "      <td>15.0</td>\n",
       "    </tr>\n",
       "    <tr>\n",
       "      <th>3</th>\n",
       "      <td>5.0</td>\n",
       "      <td>210</td>\n",
       "      <td>2</td>\n",
       "      <td>57</td>\n",
       "      <td>1</td>\n",
       "      <td>1.0</td>\n",
       "      <td>90.0</td>\n",
       "      <td>60.0</td>\n",
       "      <td>1150.0</td>\n",
       "      <td>11.0</td>\n",
       "    </tr>\n",
       "    <tr>\n",
       "      <th>4</th>\n",
       "      <td>1.0</td>\n",
       "      <td>883</td>\n",
       "      <td>2</td>\n",
       "      <td>60</td>\n",
       "      <td>1</td>\n",
       "      <td>0.0</td>\n",
       "      <td>100.0</td>\n",
       "      <td>90.0</td>\n",
       "      <td>NaN</td>\n",
       "      <td>0.0</td>\n",
       "    </tr>\n",
       "  </tbody>\n",
       "</table>\n",
       "</div>"
      ],
      "text/plain": [
       "   inst  time  status  age  ...  ph.karno  pat.karno  meal.cal  wt.loss\n",
       "0   3.0   306       2   74  ...      90.0      100.0    1175.0      NaN\n",
       "1   3.0   455       2   68  ...      90.0       90.0    1225.0     15.0\n",
       "2   3.0  1010       1   56  ...      90.0       90.0       NaN     15.0\n",
       "3   5.0   210       2   57  ...      90.0       60.0    1150.0     11.0\n",
       "4   1.0   883       2   60  ...     100.0       90.0       NaN      0.0\n",
       "\n",
       "[5 rows x 10 columns]"
      ]
     },
     "execution_count": 5,
     "metadata": {
      "tags": []
     },
     "output_type": "execute_result"
    }
   ],
   "source": [
    "# head\n",
    "data.head()"
   ]
  },
  {
   "cell_type": "code",
   "execution_count": null,
   "metadata": {
    "id": "8u2378OfUAvB"
   },
   "outputs": [],
   "source": [
    "# dropping missing values\n",
    "data = data.dropna()"
   ]
  },
  {
   "cell_type": "code",
   "execution_count": null,
   "metadata": {
    "colab": {
     "base_uri": "https://localhost:8080/"
    },
    "id": "1RXQpkPRUL3T",
    "outputId": "ff1a8cad-8dcc-4126-d8bc-b2108ecd2893"
   },
   "outputs": [
    {
     "data": {
      "text/plain": [
       "inst         0\n",
       "time         0\n",
       "status       0\n",
       "age          0\n",
       "sex          0\n",
       "ph.ecog      0\n",
       "ph.karno     0\n",
       "pat.karno    0\n",
       "meal.cal     0\n",
       "wt.loss      0\n",
       "dtype: int64"
      ]
     },
     "execution_count": 7,
     "metadata": {
      "tags": []
     },
     "output_type": "execute_result"
    }
   ],
   "source": [
    "data.isnull().sum()"
   ]
  },
  {
   "cell_type": "code",
   "execution_count": null,
   "metadata": {
    "id": "GQDLbpwLT6fO"
   },
   "outputs": [],
   "source": [
    "#transforming dependent variable\n",
    "data.loc[data.status == 1, \"status\"] = 0\n",
    "data.loc[data.status == 2, \"status\"] = 1"
   ]
  },
  {
   "cell_type": "code",
   "execution_count": null,
   "metadata": {
    "colab": {
     "base_uri": "https://localhost:8080/",
     "height": 204
    },
    "id": "CO6HxYqgT8ow",
    "outputId": "328c5a67-ada2-44e4-b359-374c65c84ec2"
   },
   "outputs": [
    {
     "data": {
      "text/html": [
       "<div>\n",
       "<style scoped>\n",
       "    .dataframe tbody tr th:only-of-type {\n",
       "        vertical-align: middle;\n",
       "    }\n",
       "\n",
       "    .dataframe tbody tr th {\n",
       "        vertical-align: top;\n",
       "    }\n",
       "\n",
       "    .dataframe thead th {\n",
       "        text-align: right;\n",
       "    }\n",
       "</style>\n",
       "<table border=\"1\" class=\"dataframe\">\n",
       "  <thead>\n",
       "    <tr style=\"text-align: right;\">\n",
       "      <th></th>\n",
       "      <th>inst</th>\n",
       "      <th>time</th>\n",
       "      <th>status</th>\n",
       "      <th>age</th>\n",
       "      <th>sex</th>\n",
       "      <th>ph.ecog</th>\n",
       "      <th>ph.karno</th>\n",
       "      <th>pat.karno</th>\n",
       "      <th>meal.cal</th>\n",
       "      <th>wt.loss</th>\n",
       "    </tr>\n",
       "  </thead>\n",
       "  <tbody>\n",
       "    <tr>\n",
       "      <th>1</th>\n",
       "      <td>3.0</td>\n",
       "      <td>455</td>\n",
       "      <td>1</td>\n",
       "      <td>68</td>\n",
       "      <td>1</td>\n",
       "      <td>0.0</td>\n",
       "      <td>90.0</td>\n",
       "      <td>90.0</td>\n",
       "      <td>1225.0</td>\n",
       "      <td>15.0</td>\n",
       "    </tr>\n",
       "    <tr>\n",
       "      <th>3</th>\n",
       "      <td>5.0</td>\n",
       "      <td>210</td>\n",
       "      <td>1</td>\n",
       "      <td>57</td>\n",
       "      <td>1</td>\n",
       "      <td>1.0</td>\n",
       "      <td>90.0</td>\n",
       "      <td>60.0</td>\n",
       "      <td>1150.0</td>\n",
       "      <td>11.0</td>\n",
       "    </tr>\n",
       "    <tr>\n",
       "      <th>5</th>\n",
       "      <td>12.0</td>\n",
       "      <td>1022</td>\n",
       "      <td>0</td>\n",
       "      <td>74</td>\n",
       "      <td>1</td>\n",
       "      <td>1.0</td>\n",
       "      <td>50.0</td>\n",
       "      <td>80.0</td>\n",
       "      <td>513.0</td>\n",
       "      <td>0.0</td>\n",
       "    </tr>\n",
       "    <tr>\n",
       "      <th>6</th>\n",
       "      <td>7.0</td>\n",
       "      <td>310</td>\n",
       "      <td>1</td>\n",
       "      <td>68</td>\n",
       "      <td>2</td>\n",
       "      <td>2.0</td>\n",
       "      <td>70.0</td>\n",
       "      <td>60.0</td>\n",
       "      <td>384.0</td>\n",
       "      <td>10.0</td>\n",
       "    </tr>\n",
       "    <tr>\n",
       "      <th>7</th>\n",
       "      <td>11.0</td>\n",
       "      <td>361</td>\n",
       "      <td>1</td>\n",
       "      <td>71</td>\n",
       "      <td>2</td>\n",
       "      <td>2.0</td>\n",
       "      <td>60.0</td>\n",
       "      <td>80.0</td>\n",
       "      <td>538.0</td>\n",
       "      <td>1.0</td>\n",
       "    </tr>\n",
       "  </tbody>\n",
       "</table>\n",
       "</div>"
      ],
      "text/plain": [
       "   inst  time  status  age  ...  ph.karno  pat.karno  meal.cal  wt.loss\n",
       "1   3.0   455       1   68  ...      90.0       90.0    1225.0     15.0\n",
       "3   5.0   210       1   57  ...      90.0       60.0    1150.0     11.0\n",
       "5  12.0  1022       0   74  ...      50.0       80.0     513.0      0.0\n",
       "6   7.0   310       1   68  ...      70.0       60.0     384.0     10.0\n",
       "7  11.0   361       1   71  ...      60.0       80.0     538.0      1.0\n",
       "\n",
       "[5 rows x 10 columns]"
      ]
     },
     "execution_count": 9,
     "metadata": {
      "tags": []
     },
     "output_type": "execute_result"
    }
   ],
   "source": [
    "data.head()"
   ]
  },
  {
   "cell_type": "code",
   "execution_count": null,
   "metadata": {
    "id": "_HECJ3iEUOBP"
   },
   "outputs": [],
   "source": [
    "# dropping instance variable\n",
    "data = data.drop(['inst'], axis=1)"
   ]
  },
  {
   "cell_type": "code",
   "execution_count": null,
   "metadata": {
    "colab": {
     "base_uri": "https://localhost:8080/"
    },
    "id": "NB3Cb8TrWNEC",
    "outputId": "2c4747dc-1bdf-480b-a295-5d04e38b82c9"
   },
   "outputs": [
    {
     "data": {
      "text/plain": [
       "Index(['time', 'status', 'age', 'sex', 'ph.ecog', 'ph.karno', 'pat.karno',\n",
       "       'meal.cal', 'wt.loss'],\n",
       "      dtype='object')"
      ]
     },
     "execution_count": 11,
     "metadata": {
      "tags": []
     },
     "output_type": "execute_result"
    }
   ],
   "source": [
    "data.columns"
   ]
  },
  {
   "cell_type": "markdown",
   "metadata": {
    "id": "wT5AcMB9hjME"
   },
   "source": [
    "# Cox Proportional Hazard"
   ]
  },
  {
   "cell_type": "code",
   "execution_count": null,
   "metadata": {
    "colab": {
     "base_uri": "https://localhost:8080/"
    },
    "id": "eAzpVpsZhln_",
    "outputId": "c7ec2d53-9809-438a-e474-45c324d65239"
   },
   "outputs": [
    {
     "data": {
      "text/plain": [
       "<lifelines.CoxPHFitter: fitted with 167 total observations, 47 right-censored observations>"
      ]
     },
     "execution_count": 12,
     "metadata": {
      "tags": []
     },
     "output_type": "execute_result"
    }
   ],
   "source": [
    "from lifelines import CoxPHFitter\n",
    "model = CoxPHFitter()\n",
    "model.fit(data, 'time', event_col = 'status')"
   ]
  },
  {
   "cell_type": "code",
   "execution_count": null,
   "metadata": {
    "colab": {
     "base_uri": "https://localhost:8080/",
     "height": 672
    },
    "id": "Duk-SVq-iIo_",
    "outputId": "e899add0-ef42-4892-82b7-63a22b78e140"
   },
   "outputs": [
    {
     "data": {
      "text/html": [
       "<div>\n",
       "<style scoped>\n",
       "    .dataframe tbody tr th:only-of-type {\n",
       "        vertical-align: middle;\n",
       "    }\n",
       "\n",
       "    .dataframe tbody tr th {\n",
       "        vertical-align: top;\n",
       "    }\n",
       "\n",
       "    .dataframe thead th {\n",
       "        text-align: right;\n",
       "    }\n",
       "</style>\n",
       "<table border=\"1\" class=\"dataframe\">\n",
       "  <tbody>\n",
       "    <tr>\n",
       "      <th>model</th>\n",
       "      <td>lifelines.CoxPHFitter</td>\n",
       "    </tr>\n",
       "    <tr>\n",
       "      <th>duration col</th>\n",
       "      <td>'time'</td>\n",
       "    </tr>\n",
       "    <tr>\n",
       "      <th>event col</th>\n",
       "      <td>'status'</td>\n",
       "    </tr>\n",
       "    <tr>\n",
       "      <th>baseline estimation</th>\n",
       "      <td>breslow</td>\n",
       "    </tr>\n",
       "    <tr>\n",
       "      <th>number of observations</th>\n",
       "      <td>167</td>\n",
       "    </tr>\n",
       "    <tr>\n",
       "      <th>number of events observed</th>\n",
       "      <td>120</td>\n",
       "    </tr>\n",
       "    <tr>\n",
       "      <th>partial log-likelihood</th>\n",
       "      <td>-494.03</td>\n",
       "    </tr>\n",
       "    <tr>\n",
       "      <th>time fit was run</th>\n",
       "      <td>2021-07-29 16:03:25 UTC</td>\n",
       "    </tr>\n",
       "  </tbody>\n",
       "</table>\n",
       "</div><table border=\"1\" class=\"dataframe\">\n",
       "  <thead>\n",
       "    <tr style=\"text-align: right;\">\n",
       "      <th style=\"min-width: 12px;\"></th>\n",
       "      <th style=\"min-width: 12px;\">coef</th>\n",
       "      <th style=\"min-width: 12px;\">exp(coef)</th>\n",
       "      <th style=\"min-width: 12px;\">se(coef)</th>\n",
       "      <th style=\"min-width: 12px;\">coef lower 95%</th>\n",
       "      <th style=\"min-width: 12px;\">coef upper 95%</th>\n",
       "      <th style=\"min-width: 12px;\">exp(coef) lower 95%</th>\n",
       "      <th style=\"min-width: 12px;\">exp(coef) upper 95%</th>\n",
       "      <th style=\"min-width: 12px;\">z</th>\n",
       "      <th style=\"min-width: 12px;\">p</th>\n",
       "      <th style=\"min-width: 12px;\">-log2(p)</th>\n",
       "    </tr>\n",
       "  </thead>\n",
       "  <tbody>\n",
       "    <tr>\n",
       "      <th>age</th>\n",
       "      <td>0.01</td>\n",
       "      <td>1.01</td>\n",
       "      <td>0.01</td>\n",
       "      <td>-0.01</td>\n",
       "      <td>0.03</td>\n",
       "      <td>0.99</td>\n",
       "      <td>1.03</td>\n",
       "      <td>0.93</td>\n",
       "      <td>0.35</td>\n",
       "      <td>1.51</td>\n",
       "    </tr>\n",
       "    <tr>\n",
       "      <th>sex</th>\n",
       "      <td>-0.55</td>\n",
       "      <td>0.57</td>\n",
       "      <td>0.20</td>\n",
       "      <td>-0.95</td>\n",
       "      <td>-0.16</td>\n",
       "      <td>0.39</td>\n",
       "      <td>0.85</td>\n",
       "      <td>-2.75</td>\n",
       "      <td>0.01</td>\n",
       "      <td>7.37</td>\n",
       "    </tr>\n",
       "    <tr>\n",
       "      <th>ph.ecog</th>\n",
       "      <td>0.74</td>\n",
       "      <td>2.09</td>\n",
       "      <td>0.22</td>\n",
       "      <td>0.30</td>\n",
       "      <td>1.18</td>\n",
       "      <td>1.35</td>\n",
       "      <td>3.26</td>\n",
       "      <td>3.29</td>\n",
       "      <td>&lt;0.005</td>\n",
       "      <td>9.95</td>\n",
       "    </tr>\n",
       "    <tr>\n",
       "      <th>ph.karno</th>\n",
       "      <td>0.02</td>\n",
       "      <td>1.02</td>\n",
       "      <td>0.01</td>\n",
       "      <td>0.00</td>\n",
       "      <td>0.04</td>\n",
       "      <td>1.00</td>\n",
       "      <td>1.05</td>\n",
       "      <td>2.00</td>\n",
       "      <td>0.05</td>\n",
       "      <td>4.45</td>\n",
       "    </tr>\n",
       "    <tr>\n",
       "      <th>pat.karno</th>\n",
       "      <td>-0.01</td>\n",
       "      <td>0.99</td>\n",
       "      <td>0.01</td>\n",
       "      <td>-0.03</td>\n",
       "      <td>0.00</td>\n",
       "      <td>0.97</td>\n",
       "      <td>1.00</td>\n",
       "      <td>-1.49</td>\n",
       "      <td>0.14</td>\n",
       "      <td>2.87</td>\n",
       "    </tr>\n",
       "    <tr>\n",
       "      <th>meal.cal</th>\n",
       "      <td>0.00</td>\n",
       "      <td>1.00</td>\n",
       "      <td>0.00</td>\n",
       "      <td>-0.00</td>\n",
       "      <td>0.00</td>\n",
       "      <td>1.00</td>\n",
       "      <td>1.00</td>\n",
       "      <td>0.11</td>\n",
       "      <td>0.91</td>\n",
       "      <td>0.13</td>\n",
       "    </tr>\n",
       "    <tr>\n",
       "      <th>wt.loss</th>\n",
       "      <td>-0.01</td>\n",
       "      <td>0.99</td>\n",
       "      <td>0.01</td>\n",
       "      <td>-0.03</td>\n",
       "      <td>0.00</td>\n",
       "      <td>0.97</td>\n",
       "      <td>1.00</td>\n",
       "      <td>-1.83</td>\n",
       "      <td>0.07</td>\n",
       "      <td>3.89</td>\n",
       "    </tr>\n",
       "  </tbody>\n",
       "</table><br><div>\n",
       "<style scoped>\n",
       "    .dataframe tbody tr th:only-of-type {\n",
       "        vertical-align: middle;\n",
       "    }\n",
       "\n",
       "    .dataframe tbody tr th {\n",
       "        vertical-align: top;\n",
       "    }\n",
       "\n",
       "    .dataframe thead th {\n",
       "        text-align: right;\n",
       "    }\n",
       "</style>\n",
       "<table border=\"1\" class=\"dataframe\">\n",
       "  <tbody>\n",
       "    <tr>\n",
       "      <th>Concordance</th>\n",
       "      <td>0.65</td>\n",
       "    </tr>\n",
       "    <tr>\n",
       "      <th>Partial AIC</th>\n",
       "      <td>1002.07</td>\n",
       "    </tr>\n",
       "    <tr>\n",
       "      <th>log-likelihood ratio test</th>\n",
       "      <td>28.16 on 7 df</td>\n",
       "    </tr>\n",
       "    <tr>\n",
       "      <th>-log2(p) of ll-ratio test</th>\n",
       "      <td>12.25</td>\n",
       "    </tr>\n",
       "  </tbody>\n",
       "</table>\n",
       "</div>"
      ],
      "text/latex": [
       "\\begin{tabular}{lrrrrrrrrrr}\n",
       "\\toprule\n",
       "{} &  coef &  exp(coef) &  se(coef) &  coef lower 95\\% &  coef upper 95\\% &  exp(coef) lower 95\\% &  exp(coef) upper 95\\% &     z &    p &  -log2(p) \\\\\n",
       "covariate &       &            &           &                 &                 &                      &                      &       &      &           \\\\\n",
       "\\midrule\n",
       "age       &  0.01 &       1.01 &      0.01 &           -0.01 &            0.03 &                 0.99 &                 1.03 &  0.93 & 0.35 &      1.51 \\\\\n",
       "sex       & -0.55 &       0.57 &      0.20 &           -0.95 &           -0.16 &                 0.39 &                 0.85 & -2.75 & 0.01 &      7.37 \\\\\n",
       "ph.ecog   &  0.74 &       2.09 &      0.22 &            0.30 &            1.18 &                 1.35 &                 3.26 &  3.29 & 0.00 &      9.95 \\\\\n",
       "ph.karno  &  0.02 &       1.02 &      0.01 &            0.00 &            0.04 &                 1.00 &                 1.05 &  2.00 & 0.05 &      4.45 \\\\\n",
       "pat.karno & -0.01 &       0.99 &      0.01 &           -0.03 &            0.00 &                 0.97 &                 1.00 & -1.49 & 0.14 &      2.87 \\\\\n",
       "meal.cal  &  0.00 &       1.00 &      0.00 &           -0.00 &            0.00 &                 1.00 &                 1.00 &  0.11 & 0.91 &      0.13 \\\\\n",
       "wt.loss   & -0.01 &       0.99 &      0.01 &           -0.03 &            0.00 &                 0.97 &                 1.00 & -1.83 & 0.07 &      3.89 \\\\\n",
       "\\bottomrule\n",
       "\\end{tabular}\n"
      ],
      "text/plain": [
       "<lifelines.CoxPHFitter: fitted with 167 total observations, 47 right-censored observations>\n",
       "             duration col = 'time'\n",
       "                event col = 'status'\n",
       "      baseline estimation = breslow\n",
       "   number of observations = 167\n",
       "number of events observed = 120\n",
       "   partial log-likelihood = -494.03\n",
       "         time fit was run = 2021-07-29 16:03:25 UTC\n",
       "\n",
       "---\n",
       "            coef  exp(coef)   se(coef)   coef lower 95%   coef upper 95%  exp(coef) lower 95%  exp(coef) upper 95%\n",
       "covariate                                                                                                         \n",
       "age         0.01       1.01       0.01            -0.01             0.03                 0.99                 1.03\n",
       "sex        -0.55       0.57       0.20            -0.95            -0.16                 0.39                 0.85\n",
       "ph.ecog     0.74       2.09       0.22             0.30             1.18                 1.35                 3.26\n",
       "ph.karno    0.02       1.02       0.01             0.00             0.04                 1.00                 1.05\n",
       "pat.karno  -0.01       0.99       0.01            -0.03             0.00                 0.97                 1.00\n",
       "meal.cal    0.00       1.00       0.00            -0.00             0.00                 1.00                 1.00\n",
       "wt.loss    -0.01       0.99       0.01            -0.03             0.00                 0.97                 1.00\n",
       "\n",
       "              z      p   -log2(p)\n",
       "covariate                        \n",
       "age        0.93   0.35       1.51\n",
       "sex       -2.75   0.01       7.37\n",
       "ph.ecog    3.29 <0.005       9.95\n",
       "ph.karno   2.00   0.05       4.45\n",
       "pat.karno -1.49   0.14       2.87\n",
       "meal.cal   0.11   0.91       0.13\n",
       "wt.loss   -1.83   0.07       3.89\n",
       "---\n",
       "Concordance = 0.65\n",
       "Partial AIC = 1002.07\n",
       "log-likelihood ratio test = 28.16 on 7 df\n",
       "-log2(p) of ll-ratio test = 12.25"
      ]
     },
     "metadata": {
      "tags": []
     },
     "output_type": "display_data"
    }
   ],
   "source": [
    "model.print_summary()"
   ]
  },
  {
   "cell_type": "code",
   "execution_count": null,
   "metadata": {
    "colab": {
     "base_uri": "https://localhost:8080/",
     "height": 296
    },
    "id": "LDR1OovQiREi",
    "outputId": "62497d50-995b-4d92-cd1b-9cf2b5ab2c39"
   },
   "outputs": [
    {
     "data": {
      "text/plain": [
       "<matplotlib.axes._subplots.AxesSubplot at 0x7fe29defee10>"
      ]
     },
     "execution_count": 14,
     "metadata": {
      "tags": []
     },
     "output_type": "execute_result"
    },
    {
     "data": {
      "image/png": "[encoded data removed]",
      "text/plain": [
       "<Figure size 432x288 with 1 Axes>"
      ]
     },
     "metadata": {
      "needs_background": "light",
      "tags": []
     },
     "output_type": "display_data"
    }
   ],
   "source": [
    "# visualising the results\n",
    "model.plot()"
   ]
  },
  {
   "cell_type": "code",
   "execution_count": null,
   "metadata": {
    "id": "viCi9hMuAUqG"
   },
   "outputs": [],
   "source": []
  }
 ],
 "metadata": {
  "colab": {
   "name": "Cox Hazard Regression.ipynb",
   "provenance": []
  },
  "kernelspec": {
   "display_name": "Python 3",
   "language": "python",
   "name": "python3"
  },
  "language_info": {
   "codemirror_mode": {
    "name": "ipython",
    "version": 3
   },
   "file_extension": ".py",
   "mimetype": "text/x-python",
   "name": "python",
   "nbconvert_exporter": "python",
   "pygments_lexer": "ipython3",
   "version": "3.6.8"
  }
 },
 "nbformat": 4,
 "nbformat_minor": 1
}
